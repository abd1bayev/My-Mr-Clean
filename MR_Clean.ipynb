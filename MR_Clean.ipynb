{
  "nbformat": 4,
  "nbformat_minor": 0,
  "metadata": {
    "colab": {
      "name": "MR_Clean.ipynb",
      "provenance": [],
      "authorship_tag": "ABX9TyPQEsau57fHeTJvVFZ7I6oA"
    },
    "kernelspec": {
      "name": "python3",
      "display_name": "Python 3"
    },
    "language_info": {
      "name": "python"
    }
  },
  "cells": [
    {
      "cell_type": "code",
      "source": [
        "!pip install pandas\n",
        "!pip install requests\n",
        "!pip install beautifulsoup4\n",
        "!pip install seaborn\n",
        "!pip install matplotlib"
      ],
      "metadata": {
        "colab": {
          "base_uri": "https://localhost:8080/"
        },
        "id": "IFBXMeyblUau",
        "outputId": "858e405d-9efb-499d-e0cc-376c4bf8635d"
      },
      "execution_count": null,
      "outputs": [
        {
          "output_type": "stream",
          "name": "stdout",
          "text": [
            "Looking in indexes: https://pypi.org/simple, https://us-python.pkg.dev/colab-wheels/public/simple/\n",
            "Requirement already satisfied: pandas in /usr/local/lib/python3.7/dist-packages (1.3.5)\n",
            "Requirement already satisfied: numpy>=1.17.3 in /usr/local/lib/python3.7/dist-packages (from pandas) (1.21.6)\n",
            "Requirement already satisfied: python-dateutil>=2.7.3 in /usr/local/lib/python3.7/dist-packages (from pandas) (2.8.2)\n",
            "Requirement already satisfied: pytz>=2017.3 in /usr/local/lib/python3.7/dist-packages (from pandas) (2022.1)\n",
            "Requirement already satisfied: six>=1.5 in /usr/local/lib/python3.7/dist-packages (from python-dateutil>=2.7.3->pandas) (1.15.0)\n",
            "Looking in indexes: https://pypi.org/simple, https://us-python.pkg.dev/colab-wheels/public/simple/\n",
            "Requirement already satisfied: requests in /usr/local/lib/python3.7/dist-packages (2.23.0)\n",
            "Requirement already satisfied: certifi>=2017.4.17 in /usr/local/lib/python3.7/dist-packages (from requests) (2022.5.18.1)\n",
            "Requirement already satisfied: chardet<4,>=3.0.2 in /usr/local/lib/python3.7/dist-packages (from requests) (3.0.4)\n",
            "Requirement already satisfied: idna<3,>=2.5 in /usr/local/lib/python3.7/dist-packages (from requests) (2.10)\n",
            "Requirement already satisfied: urllib3!=1.25.0,!=1.25.1,<1.26,>=1.21.1 in /usr/local/lib/python3.7/dist-packages (from requests) (1.24.3)\n",
            "Looking in indexes: https://pypi.org/simple, https://us-python.pkg.dev/colab-wheels/public/simple/\n",
            "Requirement already satisfied: beautifulsoup4 in /usr/local/lib/python3.7/dist-packages (4.6.3)\n",
            "Looking in indexes: https://pypi.org/simple, https://us-python.pkg.dev/colab-wheels/public/simple/\n",
            "Requirement already satisfied: seaborn in /usr/local/lib/python3.7/dist-packages (0.11.2)\n",
            "Requirement already satisfied: scipy>=1.0 in /usr/local/lib/python3.7/dist-packages (from seaborn) (1.4.1)\n",
            "Requirement already satisfied: numpy>=1.15 in /usr/local/lib/python3.7/dist-packages (from seaborn) (1.21.6)\n",
            "Requirement already satisfied: pandas>=0.23 in /usr/local/lib/python3.7/dist-packages (from seaborn) (1.3.5)\n",
            "Requirement already satisfied: matplotlib>=2.2 in /usr/local/lib/python3.7/dist-packages (from seaborn) (3.2.2)\n",
            "Requirement already satisfied: cycler>=0.10 in /usr/local/lib/python3.7/dist-packages (from matplotlib>=2.2->seaborn) (0.11.0)\n",
            "Requirement already satisfied: python-dateutil>=2.1 in /usr/local/lib/python3.7/dist-packages (from matplotlib>=2.2->seaborn) (2.8.2)\n",
            "Requirement already satisfied: kiwisolver>=1.0.1 in /usr/local/lib/python3.7/dist-packages (from matplotlib>=2.2->seaborn) (1.4.2)\n",
            "Requirement already satisfied: pyparsing!=2.0.4,!=2.1.2,!=2.1.6,>=2.0.1 in /usr/local/lib/python3.7/dist-packages (from matplotlib>=2.2->seaborn) (3.0.9)\n",
            "Requirement already satisfied: typing-extensions in /usr/local/lib/python3.7/dist-packages (from kiwisolver>=1.0.1->matplotlib>=2.2->seaborn) (4.2.0)\n",
            "Requirement already satisfied: pytz>=2017.3 in /usr/local/lib/python3.7/dist-packages (from pandas>=0.23->seaborn) (2022.1)\n",
            "Requirement already satisfied: six>=1.5 in /usr/local/lib/python3.7/dist-packages (from python-dateutil>=2.1->matplotlib>=2.2->seaborn) (1.15.0)\n",
            "Looking in indexes: https://pypi.org/simple, https://us-python.pkg.dev/colab-wheels/public/simple/\n",
            "Requirement already satisfied: matplotlib in /usr/local/lib/python3.7/dist-packages (3.2.2)\n",
            "Requirement already satisfied: pyparsing!=2.0.4,!=2.1.2,!=2.1.6,>=2.0.1 in /usr/local/lib/python3.7/dist-packages (from matplotlib) (3.0.9)\n",
            "Requirement already satisfied: cycler>=0.10 in /usr/local/lib/python3.7/dist-packages (from matplotlib) (0.11.0)\n",
            "Requirement already satisfied: numpy>=1.11 in /usr/local/lib/python3.7/dist-packages (from matplotlib) (1.21.6)\n",
            "Requirement already satisfied: python-dateutil>=2.1 in /usr/local/lib/python3.7/dist-packages (from matplotlib) (2.8.2)\n",
            "Requirement already satisfied: kiwisolver>=1.0.1 in /usr/local/lib/python3.7/dist-packages (from matplotlib) (1.4.2)\n",
            "Requirement already satisfied: typing-extensions in /usr/local/lib/python3.7/dist-packages (from kiwisolver>=1.0.1->matplotlib) (4.2.0)\n",
            "Requirement already satisfied: six>=1.5 in /usr/local/lib/python3.7/dist-packages (from python-dateutil>=2.1->matplotlib) (1.15.0)\n"
          ]
        }
      ]
    },
    {
      "cell_type": "code",
      "source": [
        "from operator import itemgetter\n",
        "import pandas as pd\n",
        "import requests\n",
        "from bs4 import BeautifulSoup\n",
        "import seaborn as sns\n",
        "import matplotlib.pyplot as plt"
      ],
      "metadata": {
        "id": "w-dqaKeblUe4"
      },
      "execution_count": null,
      "outputs": []
    },
    {
      "cell_type": "code",
      "source": [
        "def request_url(url):\n",
        "    data = requests.get(url)\n",
        "    return data"
      ],
      "metadata": {
        "id": "dP3_9KdDlUiA"
      },
      "execution_count": null,
      "outputs": []
    },
    {
      "cell_type": "code",
      "source": [
        "def merge_contents(data):\n",
        "    soup = BeautifulSoup(data.text, \"html.parser\")\n",
        "    html_repos = soup.find_all(\"div\", id=\"bodyContent\", class_=\"vector-body\")\n",
        "    return html_repos"
      ],
      "metadata": {
        "id": "QT4rOhHElUlI"
      },
      "execution_count": null,
      "outputs": []
    },
    {
      "cell_type": "code",
      "source": [
        "def tokenize(merge_content):\n",
        "    s = ''\n",
        "    for a in merge_content[:]:\n",
        "        s += a.text + ' '\n",
        "    arrange = [a for a in s.split()]\n",
        "    return arrange"
      ],
      "metadata": {
        "id": "nSfTHMTGlUog"
      },
      "execution_count": null,
      "outputs": []
    },
    {
      "cell_type": "code",
      "source": [
        "def remove_stop_words(collection):\n",
        "    stop_words = [\"the\", \"a\", \"of\", \"to\", \"in\", \"about\", \"and\", \"is\", \"by\", \"^\", \"that\", \"from\", \"on\", \"for\", \"was\", \"at\", \"as\", \"are\", \"it\", \"be\", \"uv\",\"nm)\", \"an\"]\n",
        "    result = []\n",
        "    for soz in collection:\n",
        "        if not soz.isdigit():\n",
        "            if soz.lower() not in stop_words:\n",
        "                result.append(soz.lower())\n",
        "    return result"
      ],
      "metadata": {
        "id": "BohNRlABlUsK"
      },
      "execution_count": null,
      "outputs": []
    },
    {
      "cell_type": "code",
      "source": [
        "def count_frequency(filtered_collection):\n",
        "    sanash = {element: filtered_collection.count(element) for element in filtered_collection}\n",
        "\n",
        "    sort = sorted(sanash.items(), key=itemgetter(1), reverse=True)\n",
        "\n",
        "    tayyor = sort[0:26]\n",
        "    \n",
        "    return tayyor"
      ],
      "metadata": {
        "id": "6LXVs-qBlUwV"
      },
      "execution_count": null,
      "outputs": []
    },
    {
      "cell_type": "code",
      "source": [
        "def viz(frequencies):\n",
        "    viz = pd.DataFrame.from_dict(frequencies)\n",
        "    viz = viz.rename(columns={0: 'words', 1: 'count'})\n",
        "    sns.barplot(y='words', x='count', data=viz)\n",
        "    sns.set_context('paper')\n",
        "\n",
        "    crashes = sns.load_dataset('car_crashes').sort_values('total', ascending = False)\n",
        "    f, ax = plt.subplots(figsize = (6,15))\n",
        "    sns.set_color_codes('pastel')\n",
        "    sns.barplot(x = 'count', y = 'words', data = viz, color = 'b', edgecolor = 'w')\n",
        "    sns.set_color_codes('muted')\n",
        "    sns.barplot(x = 'count', y = 'words', data = viz, color = 'b', edgecolor = 'w')\n",
        "    ax.legend(ncol = 2, loc = 'lower right')\n",
        "    sns.despine(left = True, bottom = True)\n",
        "    plt.show()\n",
        "    "
      ],
      "metadata": {
        "id": "1wEOiZuPlg6-"
      },
      "execution_count": null,
      "outputs": []
    },
    {
      "cell_type": "code",
      "source": [
        "def main():\n",
        "    url = 'https://en.wikipedia.org/wiki/Ozone_layer'\n",
        "    data = request_url(url)\n",
        "    merge_content = merge_contents(data)\n",
        "    collection = tokenize(merge_content)\n",
        "    filtered_collection = remove_stop_words(collection)\n",
        "    frequencies = count_frequency(filtered_collection)\n",
        "    vizual = viz(frequencies)\n",
        "\n",
        "    print(vizual)\n",
        "\n",
        "\n",
        "main()"
      ],
      "metadata": {
        "colab": {
          "base_uri": "https://localhost:8080/",
          "height": 1000
        },
        "id": "3bej8QeKlgts",
        "outputId": "6fa697ff-858c-4ea1-df8f-8594b7b75ca1"
      },
      "execution_count": null,
      "outputs": [
        {
          "output_type": "stream",
          "name": "stderr",
          "text": [
            "No handles with labels found to put in legend.\n"
          ]
        },
        {
          "output_type": "display_data",
          "data": {
            "text/plain": [
              "<Figure size 432x288 with 1 Axes>"
            ],
            "image/png": "[encoded data removed]"
          },
          "metadata": {
            "needs_background": "light"
          }
        },
        {
          "output_type": "display_data",
          "data": {
            "text/plain": [
              "<Figure size 432x1080 with 1 Axes>"
            ],
            "image/png": "[encoded data removed]"
          },
          "metadata": {
            "needs_background": "light"
          }
        },
        {
          "output_type": "stream",
          "name": "stdout",
          "text": [
            "None\n"
          ]
        }
      ]
    },
    {
      "cell_type": "code",
      "source": [
        ""
      ],
      "metadata": {
        "id": "Mvf2DOE9mAta"
      },
      "execution_count": null,
      "outputs": []
    }
  ]
}