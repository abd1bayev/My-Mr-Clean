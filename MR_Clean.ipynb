{
  "nbformat": 4,
  "nbformat_minor": 0,
  "metadata": {
    "colab": {
      "name": "MR_Clean.ipynb",
      "provenance": [],
      "authorship_tag": "ABX9TyPlYVhx0+XWNICUjGQfI01z"
    },
    "kernelspec": {
      "name": "python3",
      "display_name": "Python 3"
    },
    "language_info": {
      "name": "python"
    }
  },
  "cells": [
    {
      "cell_type": "code",
      "source": [
        "!pip install pandas\n",
        "!pip install requests\n",
        "!pip install beautifulsoup4\n",
        "!pip install seaborn\n",
        "!pip install matplotlib"
      ],
      "metadata": {
        "id": "IFBXMeyblUau"
      },
      "execution_count": null,
      "outputs": []
    },
    {
      "cell_type": "code",
      "source": [
        "from operator import itemgetter\n",
        "import pandas as pd\n",
        "import requests\n",
        "from bs4 import BeautifulSoup\n",
        "import seaborn as sns\n",
        "import matplotlib.pyplot as plt"
      ],
      "metadata": {
        "id": "w-dqaKeblUe4"
      },
      "execution_count": 2,
      "outputs": []
    },
    {
      "cell_type": "code",
      "source": [
        "def request_url(url):\n",
        "    data = requests.get(url)\n",
        "    return data"
      ],
      "metadata": {
        "id": "dP3_9KdDlUiA"
      },
      "execution_count": 3,
      "outputs": []
    },
    {
      "cell_type": "code",
      "source": [
        "def merge_contents(data):\n",
        "    soup = BeautifulSoup(data.text, \"html.parser\")\n",
        "    html_repos = soup.find_all(\"div\", id=\"bodyContent\", class_=\"vector-body\")\n",
        "    return html_repos"
      ],
      "metadata": {
        "id": "QT4rOhHElUlI"
      },
      "execution_count": 4,
      "outputs": []
    },
    {
      "cell_type": "code",
      "source": [
        "def tokenize(merge_content):\n",
        "    s = ''\n",
        "    for a in merge_content[:]:\n",
        "        s += a.text + ' '\n",
        "    arrange = [a for a in s.split()]\n",
        "    return arrange"
      ],
      "metadata": {
        "id": "nSfTHMTGlUog"
      },
      "execution_count": 5,
      "outputs": []
    },
    {
      "cell_type": "code",
      "source": [
        "def remove_stop_words(collection):\n",
        "    stop_words = [\"the\", \"a\", \"of\", \"to\", \"in\", \"about\", \"and\", \"is\", \"by\", \"^\", \"that\", \"from\", \"on\", \"for\", \"was\", \"at\", \"as\", \"are\", \"it\", \"be\", \"uv\",\"nm)\", \"an\"]\n",
        "    result = []\n",
        "    for soz in collection:\n",
        "        if not soz.isdigit():\n",
        "            if soz.lower() not in stop_words:\n",
        "                result.append(soz.lower())\n",
        "    return result"
      ],
      "metadata": {
        "id": "BohNRlABlUsK"
      },
      "execution_count": 6,
      "outputs": []
    },
    {
      "cell_type": "code",
      "source": [
        "def count_frequency(filtered_collection):\n",
        "    sanash = {element: filtered_collection.count(element) for element in filtered_collection}\n",
        "\n",
        "    sort = sorted(sanash.items(), key=itemgetter(1), reverse=True)\n",
        "\n",
        "    tayyor = sort[0:26]\n",
        "    \n",
        "    return tayyor"
      ],
      "metadata": {
        "id": "6LXVs-qBlUwV"
      },
      "execution_count": 7,
      "outputs": []
    },
    {
      "cell_type": "code",
      "source": [
        "def viz(frequencies):\n",
        "    viz = pd.DataFrame.from_dict(frequencies)\n",
        "    viz = viz.rename(columns={0: 'words', 1: 'count'})\n",
        "    sns.barplot(y='words', x='count', data=viz)\n",
        "    sns.set_context('paper')\n",
        "\n",
        "    crashes = sns.load_dataset('car_crashes').sort_values('total', ascending = False)\n",
        "    f, ax = plt.subplots(figsize = (6,15))\n",
        "    sns.set_color_codes('pastel')\n",
        "    sns.barplot(x = 'count', y = 'words', data = viz, color = 'b', edgecolor = 'w')\n",
        "    sns.set_color_codes('muted')\n",
        "    sns.barplot(x = 'count', y = 'words', data = viz, color = 'b', edgecolor = 'w')\n",
        "    ax.legend(ncol = 2, loc = 'lower right')\n",
        "    sns.despine(left = True, bottom = True)\n",
        "    plt.show()\n",
        "    "
      ],
      "metadata": {
        "id": "1wEOiZuPlg6-"
      },
      "execution_count": 38,
      "outputs": []
    },
    {
      "cell_type": "code",
      "source": [
        "def main():\n",
        "    url = 'https://en.wikipedia.org/wiki/Ozone_layer'\n",
        "    data = request_url(url)\n",
        "    merge_content = merge_contents(data)\n",
        "    collection = tokenize(merge_content)\n",
        "    filtered_collection = remove_stop_words(collection)\n",
        "    frequencies = count_frequency(filtered_collection)\n",
        "    vizual = viz(frequencies)\n",
        "\n",
        "    print(vizual)\n",
        "\n",
        "\n",
        "main()"
      ],
      "metadata": {
        "id": "3bej8QeKlgts"
      },
      "execution_count": null,
      "outputs": []
    }
  ]
}